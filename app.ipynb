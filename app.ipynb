{
 "cells": [
  {
   "cell_type": "code",
   "execution_count": 59,
   "metadata": {},
   "outputs": [
    {
     "data": {
      "text/html": [
       "        <script type=\"text/javascript\">\n",
       "        window.PlotlyConfig = {MathJaxConfig: 'local'};\n",
       "        if (window.MathJax && window.MathJax.Hub && window.MathJax.Hub.Config) {window.MathJax.Hub.Config({SVG: {font: \"STIX-Web\"}});}\n",
       "        if (typeof require !== 'undefined') {\n",
       "        require.undef(\"plotly\");\n",
       "        requirejs.config({\n",
       "            paths: {\n",
       "                'plotly': ['https://cdn.plot.ly/plotly-2.27.0.min']\n",
       "            }\n",
       "        });\n",
       "        require(['plotly'], function(Plotly) {\n",
       "            window._Plotly = Plotly;\n",
       "        });\n",
       "        }\n",
       "        </script>\n",
       "        "
      ]
     },
     "metadata": {},
     "output_type": "display_data"
    }
   ],
   "source": [
    "import json\n",
    "import requests\n",
    "import datetime as dt\n",
    "import pandas as pd\n",
    "import pandas_datareader.data as pdr\n",
    "import plotly.offline as pyo\n",
    "import plotly.graph_objects as go\n",
    "from plotly.subplots import make_subplots\n",
    "import setuptools as setup\n",
    "import yfinance as yf\n",
    "yf.pdr_override()\n",
    "\n",
    "pyo.init_notebook_mode(connected=True)\n",
    "pd.options.plotting.backend = 'plotly'\n",
    "\n",
    "file_path = './code.txt'\n",
    "with open(file_path,\"r\") as file:\n",
    "    lines = file.readlines()\n"
   ]
  },
  {
   "cell_type": "code",
   "execution_count": 65,
   "metadata": {},
   "outputs": [
    {
     "name": "stderr",
     "output_type": "stream",
     "text": [
      "/Library/Frameworks/Python.framework/Versions/3.12/lib/python3.12/site-packages/yfinance/utils.py:775: FutureWarning:\n",
      "\n",
      "The 'unit' keyword in TimedeltaIndex construction is deprecated and will be removed in a future version. Use pd.to_timedelta instead.\n",
      "\n",
      "[*********************100%%**********************]  1 of 1 completed"
     ]
    },
    {
     "name": "stdout",
     "output_type": "stream",
     "text": [
      "                  Open        High         Low       Close   Adj Close  \\\n",
      "Date                                                                     \n",
      "2015-01-02  206.380005  206.880005  204.179993  205.429993  174.806732   \n",
      "2015-01-05  204.169998  204.369995  201.350006  201.720001  171.649811   \n",
      "2015-01-06  202.089996  202.720001  198.860001  199.820007  170.033051   \n",
      "2015-01-07  201.419998  202.720001  200.880005  202.309998  172.151886   \n",
      "2015-01-08  204.009995  206.160004  203.990005  205.899994  175.206696   \n",
      "...                ...         ...         ...         ...         ...   \n",
      "2024-02-15  499.290009  502.200012  498.799988  502.010010  502.010010   \n",
      "2024-02-16  501.700012  502.869995  498.750000  499.510010  499.510010   \n",
      "2024-02-20  497.720001  498.410004  494.450012  496.760010  496.760010   \n",
      "2024-02-21  495.420013  497.369995  493.559998  497.209991  497.209991   \n",
      "2024-02-22  504.010010  508.489990  503.019989  507.500000  507.500000   \n",
      "\n",
      "               Volume  \n",
      "Date                   \n",
      "2015-01-02  121465900  \n",
      "2015-01-05  169632600  \n",
      "2015-01-06  209151400  \n",
      "2015-01-07  125346700  \n",
      "2015-01-08  147217800  \n",
      "...               ...  \n",
      "2024-02-15   61683000  \n",
      "2024-02-16   75461200  \n",
      "2024-02-20   71736700  \n",
      "2024-02-21   59603800  \n",
      "2024-02-22   76001500  \n",
      "\n",
      "[2300 rows x 6 columns]\n"
     ]
    },
    {
     "name": "stderr",
     "output_type": "stream",
     "text": [
      "\n"
     ]
    }
   ],
   "source": [
    "#set the time range\n",
    "end = dt.datetime.now()\n",
    "start =dt.datetime(2015,1,1)\n",
    "\n",
    "#call the api\n",
    "\n",
    "spy = pdr.DataReader('SPY',start, end)\n",
    "\n",
    "print(spy)\n",
    "#format data\n",
    "\n",
    "\n"
   ]
  }
 ],
 "metadata": {
  "kernelspec": {
   "display_name": "Python 3",
   "language": "python",
   "name": "python3"
  },
  "language_info": {
   "codemirror_mode": {
    "name": "ipython",
    "version": 3
   },
   "file_extension": ".py",
   "mimetype": "text/x-python",
   "name": "python",
   "nbconvert_exporter": "python",
   "pygments_lexer": "ipython3",
   "version": "3.12.1"
  }
 },
 "nbformat": 4,
 "nbformat_minor": 2
}
