{
 "cells": [
  {
   "cell_type": "code",
   "execution_count": 124,
   "metadata": {},
   "outputs": [
    {
     "data": {
      "text/html": [
       "        <script type=\"text/javascript\">\n",
       "        window.PlotlyConfig = {MathJaxConfig: 'local'};\n",
       "        if (window.MathJax && window.MathJax.Hub && window.MathJax.Hub.Config) {window.MathJax.Hub.Config({SVG: {font: \"STIX-Web\"}});}\n",
       "        if (typeof require !== 'undefined') {\n",
       "        require.undef(\"plotly\");\n",
       "        requirejs.config({\n",
       "            paths: {\n",
       "                'plotly': ['https://cdn.plot.ly/plotly-2.27.0.min']\n",
       "            }\n",
       "        });\n",
       "        require(['plotly'], function(Plotly) {\n",
       "            window._Plotly = Plotly;\n",
       "        });\n",
       "        }\n",
       "        </script>\n",
       "        "
      ]
     },
     "metadata": {},
     "output_type": "display_data"
    }
   ],
   "source": [
    "import requests\n",
    "import json\n",
    "import datetime as dt\n",
    "import pandas as pd\n",
    "import plotly.offline as pyo\n",
    "import setuptools as setup\n",
    "import plotly.graph_objects as go\n",
    "from plotly.subplots import make_subplots\n",
    "pyo.init_notebook_mode(connected=True)\n",
    "pd.options.plotting.backend = 'plotly'\n",
    "\n",
    "url = \"https://api.finazon.io/latest/time_series\"\n",
    "api_key = '1905b8dcb8974fa386fdd051ec1bd9f7ya'\n",
    "\n",
    " \n"
   ]
  },
  {
   "cell_type": "code",
   "execution_count": 128,
   "metadata": {},
   "outputs": [
    {
     "name": "stdout",
     "output_type": "stream",
     "text": [
      "1708502804\n",
      "               datetime       o       h        l       c        v\n",
      "97  2023-09-29 04:00:00  171.69  173.06  170.360  171.21  1351962\n",
      "98  2023-09-28 04:00:00  170.01  172.02  167.640  170.74  1532313\n",
      "99  2023-09-27 04:00:00  172.63  173.07  169.075  170.43  2017250\n",
      "100 2023-09-26 04:00:00  175.45  175.48  171.660  171.90  1654370\n",
      "101 2023-09-25 04:00:00  174.47  176.94  174.120  176.11  1260986\n"
     ]
    }
   ],
   "source": [
    "#set the time range\n",
    "end = int(dt.datetime.now().timestamp())\n",
    "start =int(dt.datetime(2015,1,1).timestamp())\n",
    "print(end)\n",
    "\n",
    "#call the api\n",
    "querystring = {\"dataset\":\"us_stocks_essential\",\"ticker\":\"AAPL\",\"interval\":\"1d\",\"adjust\":\"none\",\"start_at\":start,\"end_at\":end,\"page_size\":1000}\n",
    "headers = {\"Authorization\": \"apikey 1905b8dcb8974fa386fdd051ec1bd9f7ya\"}\n",
    "response = requests.get(url, headers=headers, params=querystring)\n",
    "\n",
    "#format data\n",
    "data = response.json()['data']\n",
    "df = pd.DataFrame(data)\n",
    "df = df.rename(columns={\"t\": \"datetime\"})\n",
    "\n",
    "df['datetime'] = pd.to_datetime(df['datetime'],unit='s')\n",
    "print(df.tail())\n"
   ]
  }
 ],
 "metadata": {
  "kernelspec": {
   "display_name": "Python 3",
   "language": "python",
   "name": "python3"
  },
  "language_info": {
   "codemirror_mode": {
    "name": "ipython",
    "version": 3
   },
   "file_extension": ".py",
   "mimetype": "text/x-python",
   "name": "python",
   "nbconvert_exporter": "python",
   "pygments_lexer": "ipython3",
   "version": "3.12.1"
  }
 },
 "nbformat": 4,
 "nbformat_minor": 2
}
